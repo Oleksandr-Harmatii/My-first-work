{
 "cells": [
  {
   "cell_type": "code",
   "execution_count": 1,
   "metadata": {},
   "outputs": [
    {
     "name": "stdout",
     "output_type": "stream",
     "text": [
      "Значення змінної result: None\n",
      "Результат функції my_function: None\n"
     ]
    }
   ],
   "source": [
    "result = None  \n",
    "print(\"Значення змінної result:\", result)  \n",
    "\n",
    "def my_function():\n",
    "    return None\n",
    "\n",
    "print(\"Результат функції my_function:\", my_function())  # Виведе: Результат функції my_function: None\n"
   ]
  },
  {
   "cell_type": "code",
   "execution_count": 3,
   "metadata": {},
   "outputs": [
    {
     "name": "stdout",
     "output_type": "stream",
     "text": [
      "Значення is_valid: True\n",
      "Значення is_complete: False\n",
      "Чи більше 5? True\n"
     ]
    }
   ],
   "source": [
    "is_valid = True\n",
    "is_complete = False\n",
    "\n",
    "print(\"Значення is_valid:\", is_valid) \n",
    "print(f\"Значення is_complete: {is_complete}\")\n",
    "\n",
    "number = 10\n",
    "print(\"Чи більше 5?\", number > 5) \n"
   ]
  },
  {
   "cell_type": "code",
   "execution_count": 5,
   "metadata": {},
   "outputs": [
    {
     "name": "stdout",
     "output_type": "stream",
     "text": [
      "Результат placeholder_function: None\n"
     ]
    }
   ],
   "source": [
    "# Використання Ellipsis як заповнювача\n",
    "def placeholder_function():\n",
    "    ...\n",
    "\n",
    "print(\"Результат placeholder_function:\", placeholder_function())  # Виведе: Результат placeholder_function: None\n"
   ]
  }
 ],
 "metadata": {
  "kernelspec": {
   "display_name": "Python 3",
   "language": "python",
   "name": "python3"
  },
  "language_info": {
   "codemirror_mode": {
    "name": "ipython",
    "version": 3
   },
   "file_extension": ".py",
   "mimetype": "text/x-python",
   "name": "python",
   "nbconvert_exporter": "python",
   "pygments_lexer": "ipython3",
   "version": "3.11.9"
  }
 },
 "nbformat": 4,
 "nbformat_minor": 2
}
