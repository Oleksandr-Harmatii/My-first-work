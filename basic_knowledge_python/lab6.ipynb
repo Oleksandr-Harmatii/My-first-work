{
 "cells": [
  {
   "cell_type": "code",
   "execution_count": 1,
   "metadata": {},
   "outputs": [
    {
     "name": "stdout",
     "output_type": "stream",
     "text": [
      "Помилка: Невірний формат числа: invalid literal for int() with base 10: 'привіт'\n",
      "Процес завершено.\n"
     ]
    }
   ],
   "source": [
    "# Приклад з обробкою помилок під час конвертації рядка в число\n",
    "user_input = \"привіт\"\n",
    "\n",
    "try:\n",
    "    number = int(user_input)\n",
    "    print(\"Ви ввели число:\", number)\n",
    "except ValueError as e:\n",
    "    print(\"Помилка: Невірний формат числа:\", e)\n",
    "except Exception as e:\n",
    "    print(\"Сталася інша помилка:\", e)\n",
    "finally:\n",
    "    print(\"Процес завершено.\")\n"
   ]
  }
 ],
 "metadata": {
  "kernelspec": {
   "display_name": "Python 3",
   "language": "python",
   "name": "python3"
  },
  "language_info": {
   "codemirror_mode": {
    "name": "ipython",
    "version": 3
   },
   "file_extension": ".py",
   "mimetype": "text/x-python",
   "name": "python",
   "nbconvert_exporter": "python",
   "pygments_lexer": "ipython3",
   "version": "3.11.9"
  }
 },
 "nbformat": 4,
 "nbformat_minor": 2
}
