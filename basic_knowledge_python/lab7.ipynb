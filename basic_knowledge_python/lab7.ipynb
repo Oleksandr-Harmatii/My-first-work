{
 "cells": [
  {
   "cell_type": "code",
   "execution_count": 1,
   "metadata": {},
   "outputs": [
    {
     "name": "stdout",
     "output_type": "stream",
     "text": [
      "Вміст файлу:\n",
      "Це перший рядок.\n",
      "Це другий рядок.\n",
      "І ще один рядок!\n"
     ]
    }
   ],
   "source": [
    "# Запис у файл з використанням контекст-менеджера\n",
    "file_name = \"example.txt\"\n",
    "\n",
    "# Запис даних у файл\n",
    "with open(file_name, \"w\") as f:\n",
    "    f.write(\"Це перший рядок.\\n\")\n",
    "    f.write(\"Це другий рядок.\\n\")\n",
    "    f.write(\"І ще один рядок!\\n\")\n",
    "\n",
    "# Читання даних з файлу\n",
    "with open(file_name, \"r\") as f:\n",
    "    print(\"Вміст файлу:\")\n",
    "    for line in f:\n",
    "        print(line.strip())"
   ]
  }
 ],
 "metadata": {
  "kernelspec": {
   "display_name": "Python 3",
   "language": "python",
   "name": "python3"
  },
  "language_info": {
   "codemirror_mode": {
    "name": "ipython",
    "version": 3
   },
   "file_extension": ".py",
   "mimetype": "text/x-python",
   "name": "python",
   "nbconvert_exporter": "python",
   "pygments_lexer": "ipython3",
   "version": "3.11.9"
  }
 },
 "nbformat": 4,
 "nbformat_minor": 2
}
