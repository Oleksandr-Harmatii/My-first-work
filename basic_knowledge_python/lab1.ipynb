{
 "cells": [
  {
   "cell_type": "code",
   "execution_count": 2,
   "metadata": {},
   "outputs": [
    {
     "name": "stdout",
     "output_type": "stream",
     "text": [
      "Значення змінної a: змінна з текстом\n",
      "Значення змінної b: 1\n",
      "Значення змінної b1: 1.1\n",
      "Значення списку c: ['a', 1, 1.25, 'Слово', 'змінна з текстом']\n",
      "Значення словника d: {'a': 'Слово', 'b': 1, 'змінна з текстом': 1}\n",
      "Значення кортежу e: ('a', 'змінна з текстом')\n",
      "Значення набору f: {'ss', 'змінна з текстом'}\n",
      "\n",
      "Тип змінної a: <class 'str'>\n",
      "Тип змінної b: <class 'int'>\n",
      "Тип змінної b1: <class 'float'>\n",
      "Тип списку c: <class 'list'>\n",
      "Тип словника d: <class 'dict'>\n",
      "Тип кортежу e: <class 'tuple'>\n",
      "Тип набору f: <class 'set'>\n"
     ]
    }
   ],
   "source": [
    "# Оголошення змінних різних типів\n",
    "a = \"змінна з текстом\"  \n",
    "b = 1                   \n",
    "b1 = 1.1                \n",
    "c = [\"a\", 1, 1.25, \"Слово\", a]  \n",
    "d = {\"a\": \"Слово\", \"b\": 1, a: b} \n",
    "e = (\"a\", a)            \n",
    "f = {\"ss\", a}           \n",
    "\n",
    "# Виведення значень змінних\n",
    "print(\"Значення змінної a:\", a)\n",
    "print(\"Значення змінної b:\", b)\n",
    "print(\"Значення змінної b1:\", b1)\n",
    "print(\"Значення списку c:\", c)\n",
    "print(\"Значення словника d:\", d)\n",
    "print(\"Значення кортежу e:\", e)\n",
    "print(\"Значення набору f:\", f)\n",
    "\n",
    "# Перевірка типів даних\n",
    "print(\"\\nТип змінної a:\", type(a))\n",
    "print(\"Тип змінної b:\", type(b))\n",
    "print(\"Тип змінної b1:\", type(b1))\n",
    "print(\"Тип списку c:\", type(c))\n",
    "print(\"Тип словника d:\", type(d))\n",
    "print(\"Тип кортежу e:\", type(e))\n",
    "print(\"Тип набору f:\", type(f))\n"
   ]
  }
 ],
 "metadata": {
  "kernelspec": {
   "display_name": "Python 3",
   "language": "python",
   "name": "python3"
  },
  "language_info": {
   "codemirror_mode": {
    "name": "ipython",
    "version": 3
   },
   "file_extension": ".py",
   "mimetype": "text/x-python",
   "name": "python",
   "nbconvert_exporter": "python",
   "pygments_lexer": "ipython3",
   "version": "3.11.9"
  }
 },
 "nbformat": 4,
 "nbformat_minor": 2
}
