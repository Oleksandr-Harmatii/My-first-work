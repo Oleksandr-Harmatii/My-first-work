{
 "cells": [
  {
   "cell_type": "code",
   "execution_count": 1,
   "metadata": {},
   "outputs": [
    {
     "name": "stdout",
     "output_type": "stream",
     "text": [
      "Квадрат числа 5: 25\n",
      "Квадрат числа 10: 100\n",
      "Квадрати чисел: [1, 4, 9, 16, 25]\n"
     ]
    }
   ],
   "source": [
    "# Лямбда-функція для обчислення квадрата числа\n",
    "square = lambda x: x ** 2\n",
    "\n",
    "# Тестування лямбда-функції\n",
    "print(\"Квадрат числа 5:\", square(5))\n",
    "print(\"Квадрат числа 10:\", square(10)) \n",
    "\n",
    "# Використання лямбда-функції в функції map()\n",
    "numbers = [1, 2, 3, 4, 5]\n",
    "squared_numbers = list(map(square, numbers))\n",
    "print(\"Квадрати чисел:\", squared_numbers) "
   ]
  }
 ],
 "metadata": {
  "kernelspec": {
   "display_name": "Python 3",
   "language": "python",
   "name": "python3"
  },
  "language_info": {
   "codemirror_mode": {
    "name": "ipython",
    "version": 3
   },
   "file_extension": ".py",
   "mimetype": "text/x-python",
   "name": "python",
   "nbconvert_exporter": "python",
   "pygments_lexer": "ipython3",
   "version": "3.11.9"
  }
 },
 "nbformat": 4,
 "nbformat_minor": 2
}
