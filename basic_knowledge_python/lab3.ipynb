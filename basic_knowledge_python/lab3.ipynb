{
 "cells": [
  {
   "cell_type": "code",
   "execution_count": 1,
   "metadata": {},
   "outputs": [
    {
     "name": "stdout",
     "output_type": "stream",
     "text": [
      "Довжина списку: 5\n",
      "Довжина рядка: 13\n"
     ]
    }
   ],
   "source": [
    "my_list = [1, 2, 3, 4, 5]\n",
    "print(\"Довжина списку:\", len(my_list))\n",
    "\n",
    "text = \"Привіт, світ!\"\n",
    "print(\"Довжина рядка:\", len(text))"
   ]
  },
  {
   "cell_type": "code",
   "execution_count": 2,
   "metadata": {},
   "outputs": [
    {
     "name": "stdout",
     "output_type": "stream",
     "text": [
      "Сума чисел у списку: 50\n",
      "Сума чисел з початковим значенням 10: 60\n"
     ]
    }
   ],
   "source": [
    "numbers = [5, 10, 15, 20]\n",
    "print(\"Сума чисел у списку:\", sum(numbers))\n",
    "\n",
    "# Додавання з початковим значенням\n",
    "print(\"Сума чисел з початковим значенням 10:\", sum(numbers, 10))"
   ]
  },
  {
   "cell_type": "code",
   "execution_count": 3,
   "metadata": {},
   "outputs": [
    {
     "name": "stdout",
     "output_type": "stream",
     "text": [
      "Максимальне значення: 8\n",
      "Мінімальне значення: 1\n"
     ]
    }
   ],
   "source": [
    "values = [3, 7, 2, 8, 1]\n",
    "print(\"Максимальне значення:\", max(values))\n",
    "print(\"Мінімальне значення:\", min(values))"
   ]
  }
 ],
 "metadata": {
  "kernelspec": {
   "display_name": "Python 3",
   "language": "python",
   "name": "python3"
  },
  "language_info": {
   "codemirror_mode": {
    "name": "ipython",
    "version": 3
   },
   "file_extension": ".py",
   "mimetype": "text/x-python",
   "name": "python",
   "nbconvert_exporter": "python",
   "pygments_lexer": "ipython3",
   "version": "3.11.9"
  }
 },
 "nbformat": 4,
 "nbformat_minor": 2
}
