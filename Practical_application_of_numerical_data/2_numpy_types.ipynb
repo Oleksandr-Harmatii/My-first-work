{
 "cells": [
  {
   "cell_type": "markdown",
   "metadata": {},
   "source": [
    "# Структуровані масиви даних"
   ]
  },
  {
   "cell_type": "code",
   "execution_count": 4,
   "metadata": {},
   "outputs": [],
   "source": [
    "def homework(message):\n",
    "    print(\"\\n>>>>>\", message, \"\\n\")\n",
    "def answer(message):\n",
    "    print(\"Відповідь:\", message, \"\\n\")\n",
    "import numpy as np"
   ]
  },
  {
   "cell_type": "markdown",
   "metadata": {},
   "source": [
    "# Визначення однорідного масиву"
   ]
  },
  {
   "cell_type": "code",
   "execution_count": 5,
   "metadata": {},
   "outputs": [
    {
     "name": "stdout",
     "output_type": "stream",
     "text": [
      "Отриманий масив має вигляд:\n",
      "array([[ 3,  8,  9],\n",
      "       [ 1, -7,  0],\n",
      "       [ 4, 12,  4]], dtype=int8)\n",
      "Отриманий масив має вигляд:\n",
      "array([[ 3.4,  8.7,  9.9],\n",
      "       [ 1.1, -7.8, -0.7],\n",
      "       [ 4.1, 12.3,  4.8]], dtype=float16)\n",
      "\n",
      ">>>>> Згадуючи ООП, що робить функція repr? \n",
      "\n",
      "Відповідь: Функція repr() повертає офіційне рядкове представлення об'єкта, яке може бути використано для його відтворення. \n",
      "\n",
      "\n",
      ">>>>> У чому різниця між масивами A i B? \n",
      "\n",
      "Відповідь: Різниця між масивами A і B полягає в типах даних. Масив A використовує тип int8, що означає цілі числа з 8 бітами, \n",
      "тоді як масив B використовує тип float16, який зберігає числа з плаваючою комою з 16 бітами. \n",
      "\n"
     ]
    }
   ],
   "source": [
    "lst = [ [3.4, 8.7, 9.9], \n",
    "        [1.1, -7.8, -0.7],\n",
    "        [4.1, 12.3, 4.8] ]\n",
    "\n",
    "A = np.array(lst, dtype=np.int8)\n",
    "print(f\"Отриманий масив має вигляд:\\n{repr(A)}\")\n",
    "B = np.array(lst, dtype=np.float16)\n",
    "print(f\"Отриманий масив має вигляд:\\n{repr(B)}\")\n",
    "\n",
    "homework(\"Згадуючи ООП, що робить функція repr?\")\n",
    "answer(\"Функція repr() повертає офіційне рядкове представлення об'єкта, яке може бути використано для його відтворення.\")\n",
    "homework(\"У чому різниця між масивами A i B?\")\n",
    "answer(\"\"\"Різниця між масивами A і B полягає в типах даних. Масив A використовує тип int8, що означає цілі числа з 8 бітами, \n",
    "тоді як масив B використовує тип float16, який зберігає числа з плаваючою комою з 16 бітами.\"\"\")"
   ]
  },
  {
   "cell_type": "markdown",
   "metadata": {},
   "source": [
    "# Задаємо свій тип даних\n",
    "> можливо створити свій набір даних задавши назву та типи полів. Кожне поле повинне бути заданим як tuple який містить імя та тип (числовий, символьний, тд.)."
   ]
  },
  {
   "cell_type": "code",
   "execution_count": 7,
   "metadata": {},
   "outputs": [
    {
     "name": "stdout",
     "output_type": "stream",
     "text": [
      "Отриманий масив має вигляд:\n",
      "[('Bohdan', 4) ('Marta', 5) ('Noname', 0)]\n",
      "Доступитись до певної колонки тепер можна за її іменем: [4 5 0]\n",
      "\n",
      ">>>>> Як вивести всі імена присутні в даному масиві? \n",
      "\n",
      "Відповідь: Щоб вивести всі імена в масиві, можна звернутися до колонки 'name':\n",
      "C['name'] \n",
      "\n"
     ]
    }
   ],
   "source": [
    "dt = np.dtype([('name', np.str_, 20), ('mark', np.int8)])\n",
    "arr = [\n",
    "    (\"Bohdan\", 4), \n",
    "    (\"Marta\", 5),\n",
    "    (\"Noname\", 0)\n",
    "]\n",
    "C = np.array(arr, dtype=dt)\n",
    "print(f\"Отриманий масив має вигляд:\\n{C}\")\n",
    "print(f\"Доступитись до певної колонки тепер можна за її іменем: {C['mark']}\")\n",
    "\n",
    "homework(\"Як вивести всі імена присутні в даному масиві?\")\n",
    "answer(\"Щоб вивести всі імена в масиві, можна звернутися до колонки 'name':\\nC['name']\")"
   ]
  },
  {
   "cell_type": "markdown",
   "metadata": {},
   "source": [
    "# Запис та зчитування з файлу, формат CSV\n",
    "> `savez` та `load` найпростіші функції для збереження даних NPZ формат;\n",
    "> CSV - формат, де значення відділені комою. Деколи цей формат дуже подібний до комірок Excel;\n",
    "> `savetxt` - метод дозволяє збуурегти масив у файл; \n",
    "> `genfromtxt` - метод вичитує дані з файлі;"
   ]
  },
  {
   "cell_type": "code",
   "execution_count": 8,
   "metadata": {},
   "outputs": [
    {
     "name": "stdout",
     "output_type": "stream",
     "text": [
      "Вихідний масив:  [('Bohdan', 4) ('Marta', 5) ('Noname', 0)]\n",
      "Прочитаний з файлу:  [('Bohdan', 4) ('Marta', 5) ('Noname', 0)]\n",
      "Записуємо у CSV файл temp.csv значення: [('Bohdan', 4) ('Marta', 5) ('Noname', 0)]\n",
      "Перевіряємо чи файл temp.csv створився: ['2_numpy_types.ipynb', '3_numpy_operations.ipynb', '4_numpy_statistic.ipynb', 'my_mass.npz', 'temp.csv']\n",
      "Читаємо файл за допомогою оператора with та методу readlines\n",
      "Прочитаний файл:\n",
      " ['# name,mark\\n', 'Bohdan,4\\n', 'Marta,5\\n', 'Noname,0\\n'] \n",
      "- як бачимо - 4 елементи є стрічками <class 'str'>.\n",
      "Зчитане значення з файла:\n",
      " [('Bohdan', 4) ('Marta', 5) ('Noname', 0)], як бачимо - 3 елементи це <class 'numpy.void'> \n",
      "- вбудований клас бібліотеки numpy.\n",
      "Доступитись до певного елемента можна наступним чином, наприклад імя першого елементу: Bohdan\n",
      "\n",
      ">>>>> Створіть додаткове поле group - яке буде вказувавти групу. \n",
      "Допишіть Ваше імя, оцінку та групу до масиву. \n",
      "Збережіть та вичитайте дані у файл.\n",
      "Прочитайте саме Ваше імя з масиву. \n",
      "\n"
     ]
    }
   ],
   "source": [
    "print(\"Вихідний масив: \", C)\n",
    "np.savez(\"my_mass.npz\", my_mass=C)\n",
    "D = np.load(\"my_mass.npz\")\n",
    "print(\"Прочитаний з файлу: \", D[\"my_mass\"])\n",
    "\n",
    "filename = \"temp.csv\"\n",
    "print(f\"Записуємо у CSV файл {filename} значення: {C}\")\n",
    "np.savetxt(filename, C, fmt=\"%s,%d\", header=\"name,mark\", delimiter=\",\")\n",
    "\n",
    "import os\n",
    "print(f\"Перевіряємо чи файл {filename} створився: {os.listdir()}\")\n",
    "\n",
    "print(\"Читаємо файл за допомогою оператора with та методу readlines\")\n",
    "with open(filename) as f:\n",
    "    D = f.readlines()\n",
    "\n",
    "print(f\"Прочитаний файл:\\n {D} \\n- як бачимо - {len(D)} елементи є стрічками {type(D[0])}.\")\n",
    "\n",
    "D = np.genfromtxt(filename, dtype=dt, delimiter=\",\")\n",
    "print(f\"Зчитане значення з файла:\\n {D}, як бачимо - {D.size} елементи це {type(D[0])} \\n- вбудований клас бібліотеки numpy.\")\n",
    "print(f\"Доступитись до певного елемента можна наступним чином, наприклад імя першого елементу: {D[0]['name']}\")\n",
    "\n",
    "homework(\"\"\"Створіть додаткове поле group - яке буде вказувавти групу. \n",
    "Допишіть Ваше імя, оцінку та групу до масиву. \n",
    "Збережіть та вичитайте дані у файл.\n",
    "Прочитайте саме Ваше імя з масиву.\"\"\")"
   ]
  },
  {
   "cell_type": "code",
   "execution_count": 9,
   "metadata": {},
   "outputs": [
    {
     "name": "stdout",
     "output_type": "stream",
     "text": [
      "Прочитаний з файлу:  [('Bohdan', 4, 'A1') ('Marta', 5, 'B2') ('Noname', 0, 'C3')\n",
      " ('Oleksandr', 5, '100')]\n",
      "Записуємо у CSV файл temp_with_group.csv значення: [('Bohdan', 4, 'A1') ('Marta', 5, 'B2') ('Noname', 0, 'C3')\n",
      " ('Oleksandr', 5, '100')]\n",
      "Перевіряємо чи файл temp_with_group.csv створився: ['2_numpy_types.ipynb', '3_numpy_operations.ipynb', '4_numpy_statistic.ipynb', 'my_mass.npz', 'my_mass_with_group.npz', 'temp.csv', 'temp_with_group.csv']\n",
      "Читаємо файл за допомогою оператора with та методу readlines\n",
      "Прочитаний файл:\n",
      " ['# name,mark,group\\n', 'Bohdan,4,A1\\n', 'Marta,5,B2\\n', 'Noname,0,C3\\n', 'Oleksandr,5,100\\n'] \n",
      "- як бачимо - 5 елементи є стрічками <class 'str'>.\n",
      "Зчитане значення з файла:\n",
      " [('Bohdan', 4, 'A1') ('Marta', 5, 'B2') ('Noname', 0, 'C3')\n",
      " ('Oleksandr', 5, '100')], як бачимо - 4 елементи це <class 'numpy.void'> \n",
      "- вбудований клас бібліотеки numpy.\n",
      "Доступитись до певного елемента можна наступним чином, наприклад імя першого елементу: Bohdan\n",
      "Ваше ім'я з масиву: Oleksandr\n"
     ]
    }
   ],
   "source": [
    "dt = np.dtype([('name', np.str_, 20), ('mark', np.int8), ('group', np.str_, 20)])\n",
    "\n",
    "arr = [\n",
    "    (\"Bohdan\", 4, \"A1\"),\n",
    "    (\"Marta\", 5, \"B2\"),\n",
    "    (\"Noname\", 0, \"C3\"),\n",
    "    (\"Oleksandr\", 5, \"100\")\n",
    "]\n",
    "\n",
    "C = np.array(arr, dtype=dt)\n",
    "\n",
    "np.savez(\"my_mass_with_group.npz\", my_mass=C)\n",
    "\n",
    "D = np.load(\"my_mass_with_group.npz\")\n",
    "print(\"Прочитаний з файлу: \", D[\"my_mass\"])\n",
    "\n",
    "filename = \"temp_with_group.csv\"\n",
    "print(f\"Записуємо у CSV файл {filename} значення: {C}\")\n",
    "np.savetxt(filename, C, fmt=\"%s,%d,%s\", header=\"name,mark,group\", delimiter=\",\")\n",
    "\n",
    "print(f\"Перевіряємо чи файл {filename} створився: {os.listdir()}\")\n",
    "\n",
    "print(\"Читаємо файл за допомогою оператора with та методу readlines\")\n",
    "with open(filename) as f:\n",
    "    D = f.readlines()\n",
    "\n",
    "print(f\"Прочитаний файл:\\n {D} \\n- як бачимо - {len(D)} елементи є стрічками {type(D[0])}.\")\n",
    "\n",
    "D = np.genfromtxt(filename, dtype=dt, delimiter=\",\", skip_header=1)\n",
    "print(f\"Зчитане значення з файла:\\n {D}, як бачимо - {D.size} елементи це {type(D[0])} \\n- вбудований клас бібліотеки numpy.\")\n",
    "print(f\"Доступитись до певного елемента можна наступним чином, наприклад імя першого елементу: {D[0]['name']}\")\n",
    "print(f\"Ваше ім'я з масиву: {D[3]['name']}\")\n"
   ]
  }
 ],
 "metadata": {
  "kernelspec": {
   "display_name": "Python 3",
   "language": "python",
   "name": "python3"
  },
  "language_info": {
   "codemirror_mode": {
    "name": "ipython",
    "version": 3
   },
   "file_extension": ".py",
   "mimetype": "text/x-python",
   "name": "python",
   "nbconvert_exporter": "python",
   "pygments_lexer": "ipython3",
   "version": "3.11.9"
  },
  "orig_nbformat": 4,
  "vscode": {
   "interpreter": {
    "hash": "aee8b7b246df8f9039afb4144a1f6fd8d2ca17a180786b69acc140d282b71a49"
   }
  }
 },
 "nbformat": 4,
 "nbformat_minor": 2
}
